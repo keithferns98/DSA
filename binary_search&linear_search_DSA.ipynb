{
  "nbformat": 4,
  "nbformat_minor": 0,
  "metadata": {
    "colab": {
      "name": "binary_search&linear_search_DSA.ipynb",
      "provenance": [],
      "collapsed_sections": [],
      "authorship_tag": "ABX9TyPaI64mO7VGHC+K1b4uZTXq",
      "include_colab_link": true
    },
    "kernelspec": {
      "name": "python3",
      "display_name": "Python 3"
    },
    "language_info": {
      "name": "python"
    }
  },
  "cells": [
    {
      "cell_type": "markdown",
      "metadata": {
        "id": "view-in-github",
        "colab_type": "text"
      },
      "source": [
        "<a href=\"https://colab.research.google.com/github/keithferns98/DSA/blob/main/binary_search%26linear_search_DSA.ipynb\" target=\"_parent\"><img src=\"https://colab.research.google.com/assets/colab-badge.svg\" alt=\"Open In Colab\"/></a>"
      ]
    },
    {
      "cell_type": "markdown",
      "metadata": {
        "id": "HbEd8O3i4iaz"
      },
      "source": [
        "Problem\n",
        "This course takes a coding-focused approach towards learning. In each notebook, we'll focus on solving one problem, and learn the techniques, algorithms, and data structures to devise an efficient solution. We will then generalize the technique and apply it to other problems.\n",
        "\n",
        "In this notebook, we focus on solving the following problem:\n",
        "\n",
        "QUESTION 1: Alice has some cards with numbers written on them. She arranges the cards in decreasing order, and lays them out face down in a sequence on a table. She challenges Bob to pick out the card containing a given number by turning over as few cards as possible. Write a function to help Bob locate the card.\n",
        "\n",
        "\n",
        "This may seem like a simple problem, especially if you're familiar with the concept of binary search, but the strategy and technique we learning here will be widely applicable, and we'll soon use it to solve harder problems."
      ]
    },
    {
      "cell_type": "code",
      "metadata": {
        "id": "AC9Ygvry4lT9"
      },
      "source": [
        "cards=[13,11,10,7,4,3,1,0]\n",
        "query=7\n",
        "output=3"
      ],
      "execution_count": 2,
      "outputs": []
    },
    {
      "cell_type": "code",
      "metadata": {
        "colab": {
          "base_uri": "https://localhost:8080/"
        },
        "id": "ixJ5J2mJ43AI",
        "outputId": "e6d3fa79-98bb-4bf2-da5d-3ea6ad83c8ad"
      },
      "source": [
        "cards[3]"
      ],
      "execution_count": 3,
      "outputs": [
        {
          "output_type": "execute_result",
          "data": {
            "text/plain": [
              "7"
            ]
          },
          "metadata": {},
          "execution_count": 3
        }
      ]
    },
    {
      "cell_type": "code",
      "metadata": {
        "id": "M2jvp63445Z9"
      },
      "source": [
        "def locate_card(cards,query):\n",
        "  pass"
      ],
      "execution_count": 4,
      "outputs": []
    },
    {
      "cell_type": "code",
      "metadata": {
        "colab": {
          "base_uri": "https://localhost:8080/"
        },
        "id": "DjqtcpRr5NmG",
        "outputId": "8cbbb0fb-5953-4dfc-d633-80b46220db3e"
      },
      "source": [
        "result=locate_card(cards,query)\n",
        "print(result)"
      ],
      "execution_count": 5,
      "outputs": [
        {
          "output_type": "stream",
          "name": "stdout",
          "text": [
            "None\n"
          ]
        }
      ]
    },
    {
      "cell_type": "code",
      "metadata": {
        "colab": {
          "base_uri": "https://localhost:8080/"
        },
        "id": "tFN_sEJg5TZM",
        "outputId": "3ec431d6-b614-42c1-8faf-a045f76a7016"
      },
      "source": [
        "result==output"
      ],
      "execution_count": 6,
      "outputs": [
        {
          "output_type": "execute_result",
          "data": {
            "text/plain": [
              "False"
            ]
          },
          "metadata": {},
          "execution_count": 6
        }
      ]
    },
    {
      "cell_type": "code",
      "metadata": {
        "id": "_0wguwJD5VP1"
      },
      "source": [
        "test={\n",
        "    'input':{\n",
        "        'cards':[13,11,10,7,4,3,1,0],\n",
        "        'query':7\n",
        "    },\n",
        "    'output':3\n",
        "}"
      ],
      "execution_count": 25,
      "outputs": []
    },
    {
      "cell_type": "code",
      "metadata": {
        "colab": {
          "base_uri": "https://localhost:8080/"
        },
        "id": "oFAIbqqA6mn5",
        "outputId": "f1fd22c4-b6cd-47e4-b927-3549c457d828"
      },
      "source": [
        "locate_card(**test['input'])==test['output']"
      ],
      "execution_count": 26,
      "outputs": [
        {
          "output_type": "execute_result",
          "data": {
            "text/plain": [
              "True"
            ]
          },
          "metadata": {},
          "execution_count": 26
        }
      ]
    },
    {
      "cell_type": "code",
      "metadata": {
        "colab": {
          "base_uri": "https://localhost:8080/",
          "height": 167
        },
        "id": "3mlfz_2JXtsA",
        "outputId": "ffe140f0-1695-4e9e-876f-97f815c8e53b"
      },
      "source": [
        "tests.append(test)"
      ],
      "execution_count": 27,
      "outputs": [
        {
          "output_type": "error",
          "ename": "NameError",
          "evalue": "ignored",
          "traceback": [
            "\u001b[0;31m---------------------------------------------------------------------------\u001b[0m",
            "\u001b[0;31mNameError\u001b[0m                                 Traceback (most recent call last)",
            "\u001b[0;32m<ipython-input-27-438d8e063c77>\u001b[0m in \u001b[0;36m<module>\u001b[0;34m()\u001b[0m\n\u001b[0;32m----> 1\u001b[0;31m \u001b[0mtests\u001b[0m\u001b[0;34m.\u001b[0m\u001b[0mappend\u001b[0m\u001b[0;34m(\u001b[0m\u001b[0mtest\u001b[0m\u001b[0;34m)\u001b[0m\u001b[0;34m\u001b[0m\u001b[0;34m\u001b[0m\u001b[0m\n\u001b[0m",
            "\u001b[0;31mNameError\u001b[0m: name 'tests' is not defined"
          ]
        }
      ]
    },
    {
      "cell_type": "code",
      "metadata": {
        "id": "ro1f3Xlw7FcR"
      },
      "source": [
        "tests=[]\n",
        "\n",
        "#query occurs in the middle\n",
        "tests.append(test)\n",
        "\n",
        "tests.append({\n",
        "    'input':{\n",
        "        'cards':[13,11,10,7,4,3,1,0],\n",
        "        'query':1\n",
        "    },\n",
        "    'output':6\n",
        "})"
      ],
      "execution_count": 28,
      "outputs": []
    },
    {
      "cell_type": "code",
      "metadata": {
        "id": "sq4vTU6x9EJP"
      },
      "source": [
        "tests.append({\n",
        "    'input':{\n",
        "        'cards': [4,2,1,-1],\n",
        "        'query':4\n",
        "    },\n",
        "    'output':0\n",
        "})"
      ],
      "execution_count": 29,
      "outputs": []
    },
    {
      "cell_type": "code",
      "metadata": {
        "id": "DxA6k-UB9UyJ"
      },
      "source": [
        "tests.append({\n",
        "    'input':{\n",
        "        'cards':[3,-1,-9,-127],\n",
        "        'query': -127\n",
        "    },\n",
        "    'output':3\n",
        "})"
      ],
      "execution_count": 30,
      "outputs": []
    },
    {
      "cell_type": "code",
      "metadata": {
        "colab": {
          "base_uri": "https://localhost:8080/"
        },
        "id": "G4sU83e89tzC",
        "outputId": "b5454925-e4b7-464a-d282-c30d6f50bb56"
      },
      "source": [
        "tests"
      ],
      "execution_count": 31,
      "outputs": [
        {
          "output_type": "execute_result",
          "data": {
            "text/plain": [
              "[{'input': {'cards': [13, 11, 10, 7, 4, 3, 1, 0], 'query': 7}, 'output': 3},\n",
              " {'input': {'cards': [13, 11, 10, 7, 4, 3, 1, 0], 'query': 1}, 'output': 6},\n",
              " {'input': {'cards': [4, 2, 1, -1], 'query': 4}, 'output': 0},\n",
              " {'input': {'cards': [3, -1, -9, -127], 'query': -127}, 'output': 3}]"
            ]
          },
          "metadata": {},
          "execution_count": 31
        }
      ]
    },
    {
      "cell_type": "code",
      "metadata": {
        "id": "9YWXUrCG942J"
      },
      "source": [
        "tests.append({\n",
        "    'input':{\n",
        "        'cards':[6],\n",
        "        'query':6\n",
        "    },\n",
        "    'output':0\n",
        "})"
      ],
      "execution_count": 32,
      "outputs": []
    },
    {
      "cell_type": "code",
      "metadata": {
        "id": "WXzULi6b-NiJ"
      },
      "source": [
        "#cards does not contain the query\n",
        "tests.append({\n",
        "    'input':{\n",
        "        'cards':[9,7,5,2,-9],\n",
        "        'query':4\n",
        "    },\n",
        "    'output':-1\n",
        "})"
      ],
      "execution_count": 33,
      "outputs": []
    },
    {
      "cell_type": "code",
      "metadata": {
        "id": "VKHhH8PxV2Hr"
      },
      "source": [
        "#cards is empty\n",
        "tests.append({\n",
        "    'input':{\n",
        "        'cards':[],\n",
        "        'query':7\n",
        "    },\n",
        "    'output':-1\n",
        "})"
      ],
      "execution_count": 34,
      "outputs": []
    },
    {
      "cell_type": "code",
      "metadata": {
        "id": "GYmCOHahWLwo"
      },
      "source": [
        "#numbers repeated several times\n",
        "tests.append({\n",
        "    'input':{\n",
        "        'cards':[8,8,6,6,6,6,6,6,3,2,2,2,0,0,0],\n",
        "        'query':6\n",
        "\n",
        "    },\n",
        "    'output':2\n",
        "})"
      ],
      "execution_count": 35,
      "outputs": []
    },
    {
      "cell_type": "code",
      "metadata": {
        "colab": {
          "base_uri": "https://localhost:8080/"
        },
        "id": "PTrTgA3FXLio",
        "outputId": "aa5ac246-f5d4-47dd-b9f3-453f359b715c"
      },
      "source": [
        "tests"
      ],
      "execution_count": 36,
      "outputs": [
        {
          "output_type": "execute_result",
          "data": {
            "text/plain": [
              "[{'input': {'cards': [13, 11, 10, 7, 4, 3, 1, 0], 'query': 7}, 'output': 3},\n",
              " {'input': {'cards': [13, 11, 10, 7, 4, 3, 1, 0], 'query': 1}, 'output': 6},\n",
              " {'input': {'cards': [4, 2, 1, -1], 'query': 4}, 'output': 0},\n",
              " {'input': {'cards': [3, -1, -9, -127], 'query': -127}, 'output': 3},\n",
              " {'input': {'cards': [6], 'query': 6}, 'output': 0},\n",
              " {'input': {'cards': [9, 7, 5, 2, -9], 'query': 4}, 'output': -1},\n",
              " {'input': {'cards': [], 'query': 7}, 'output': -1},\n",
              " {'input': {'cards': [8, 8, 6, 6, 6, 6, 6, 6, 3, 2, 2, 2, 0, 0, 0],\n",
              "   'query': 6},\n",
              "  'output': 2}]"
            ]
          },
          "metadata": {},
          "execution_count": 36
        }
      ]
    },
    {
      "cell_type": "code",
      "metadata": {
        "id": "_ITYXxoGXcrn"
      },
      "source": [
        "def locate_card(cards,query):\n",
        "    #Create a variable position with value 0\n",
        "    position=0\n",
        "\n",
        "    #Set up a loop for repetition\n",
        "    while True:\n",
        "        if cards[position]==query:\n",
        "            return position\n",
        "        position += 1\n",
        "\n",
        "        #Check if we reached the end of the array\n",
        "        if position ==len(cards):\n",
        "            return -1"
      ],
      "execution_count": 21,
      "outputs": []
    },
    {
      "cell_type": "code",
      "metadata": {
        "colab": {
          "base_uri": "https://localhost:8080/"
        },
        "id": "omY32nnab590",
        "outputId": "f7604cec-f6de-4c4e-9b9c-bed77e22ef4c"
      },
      "source": [
        "test"
      ],
      "execution_count": 22,
      "outputs": [
        {
          "output_type": "execute_result",
          "data": {
            "text/plain": [
              "{'input': {'cards': [13, 11, 10, 7, 4, 3, 1, 0], 'query': 7}, 'output': 3}"
            ]
          },
          "metadata": {},
          "execution_count": 22
        }
      ]
    },
    {
      "cell_type": "code",
      "metadata": {
        "colab": {
          "base_uri": "https://localhost:8080/"
        },
        "id": "VdgNG-Zab7HE",
        "outputId": "f2001b28-63b7-4353-8715-af59f5c12cdf"
      },
      "source": [
        "result=locate_card(test['input']['cards'],test['input']['query'])\n",
        "result"
      ],
      "execution_count": 23,
      "outputs": [
        {
          "output_type": "execute_result",
          "data": {
            "text/plain": [
              "3"
            ]
          },
          "metadata": {},
          "execution_count": 23
        }
      ]
    },
    {
      "cell_type": "code",
      "metadata": {
        "colab": {
          "base_uri": "https://localhost:8080/"
        },
        "id": "-Bijgl94cHpa",
        "outputId": "17ffe111-bc0b-49d1-9da8-6dc237eef149"
      },
      "source": [
        "result==output"
      ],
      "execution_count": 24,
      "outputs": [
        {
          "output_type": "execute_result",
          "data": {
            "text/plain": [
              "True"
            ]
          },
          "metadata": {},
          "execution_count": 24
        }
      ]
    },
    {
      "cell_type": "code",
      "metadata": {
        "colab": {
          "base_uri": "https://localhost:8080/"
        },
        "id": "FHbRQltmcPA3",
        "outputId": "9d30b632-6dcb-46ab-820c-3fe14fe188b8"
      },
      "source": [
        "!pip install jovian --upgrade --quiet"
      ],
      "execution_count": 13,
      "outputs": [
        {
          "output_type": "stream",
          "name": "stdout",
          "text": [
            "\u001b[?25l\r\u001b[K     |████▊                           | 10 kB 26.0 MB/s eta 0:00:01\r\u001b[K     |█████████▌                      | 20 kB 29.9 MB/s eta 0:00:01\r\u001b[K     |██████████████▎                 | 30 kB 14.9 MB/s eta 0:00:01\r\u001b[K     |███████████████████             | 40 kB 11.4 MB/s eta 0:00:01\r\u001b[K     |███████████████████████▉        | 51 kB 6.7 MB/s eta 0:00:01\r\u001b[K     |████████████████████████████▋   | 61 kB 7.1 MB/s eta 0:00:01\r\u001b[K     |████████████████████████████████| 68 kB 3.9 MB/s \n",
            "\u001b[?25h  Building wheel for uuid (setup.py) ... \u001b[?25l\u001b[?25hdone\n"
          ]
        }
      ]
    },
    {
      "cell_type": "code",
      "metadata": {
        "id": "gVliCAX8clmb"
      },
      "source": [
        "from jovian.pythondsa import evaluate_test_case"
      ],
      "execution_count": 14,
      "outputs": []
    },
    {
      "cell_type": "code",
      "metadata": {
        "colab": {
          "base_uri": "https://localhost:8080/"
        },
        "id": "taH6AMGTcug2",
        "outputId": "a254a99b-cb8a-4798-cbd8-cdcfbd93be94"
      },
      "source": [
        "evaluate_test_case(locate_card,test)"
      ],
      "execution_count": 27,
      "outputs": [
        {
          "output_type": "stream",
          "name": "stdout",
          "text": [
            "\n",
            "Input:\n",
            "{'cards': [13, 11, 10, 7, 4, 3, 1, 0], 'query': 7}\n",
            "\n",
            "Expected Output:\n",
            "3\n",
            "\n",
            "\n",
            "Actual Output:\n",
            "3\n",
            "\n",
            "Execution Time:\n",
            "0.005 ms\n",
            "\n",
            "Test Result:\n",
            "\u001b[92mPASSED\u001b[0m\n",
            "\n"
          ]
        },
        {
          "output_type": "execute_result",
          "data": {
            "text/plain": [
              "(3, True, 0.005)"
            ]
          },
          "metadata": {},
          "execution_count": 27
        }
      ]
    },
    {
      "cell_type": "code",
      "metadata": {
        "id": "mLvAKHdTc2YQ"
      },
      "source": [
        "from jovian.pythondsa import evaluate_test_cases"
      ],
      "execution_count": 23,
      "outputs": []
    },
    {
      "cell_type": "code",
      "metadata": {
        "id": "yPZlvPtNeWUG"
      },
      "source": [
        "del tests[8]"
      ],
      "execution_count": 53,
      "outputs": []
    },
    {
      "cell_type": "code",
      "metadata": {
        "id": "hwVTBxtcfae7"
      },
      "source": [
        "tests.remove(set())"
      ],
      "execution_count": 43,
      "outputs": []
    },
    {
      "cell_type": "code",
      "metadata": {
        "id": "l0n9c_tngOmc"
      },
      "source": [
        "del tests[5]"
      ],
      "execution_count": 68,
      "outputs": []
    },
    {
      "cell_type": "code",
      "metadata": {
        "id": "Lu9wn8FmhxF_"
      },
      "source": [
        "del tests[0]"
      ],
      "execution_count": 60,
      "outputs": []
    },
    {
      "cell_type": "code",
      "metadata": {
        "colab": {
          "base_uri": "https://localhost:8080/"
        },
        "id": "eyllUBQrh3eO",
        "outputId": "681cc6dd-98c3-4dd7-e489-ab503fea2ede"
      },
      "source": [
        "tests[0]"
      ],
      "execution_count": 62,
      "outputs": [
        {
          "output_type": "execute_result",
          "data": {
            "text/plain": [
              "{'input': {'cards': [13, 11, 10, 7, 4, 3, 1, 0], 'query': 1}, 'output': 6}"
            ]
          },
          "metadata": {},
          "execution_count": 62
        }
      ]
    },
    {
      "cell_type": "code",
      "metadata": {
        "colab": {
          "base_uri": "https://localhost:8080/"
        },
        "id": "Xwfu4N-OgjlE",
        "outputId": "6a0931c5-7b33-418e-8ae8-cbdb4775de73"
      },
      "source": [
        "evaluate_test_cases(locate_card,tests)"
      ],
      "execution_count": 69,
      "outputs": [
        {
          "output_type": "stream",
          "name": "stdout",
          "text": [
            "\n",
            "\u001b[1mTEST CASE #0\u001b[0m\n",
            "\n",
            "Input:\n",
            "{'cards': [13, 11, 10, 7, 4, 3, 1, 0], 'query': 1}\n",
            "\n",
            "Expected Output:\n",
            "6\n",
            "\n",
            "\n",
            "Actual Output:\n",
            "6\n",
            "\n",
            "Execution Time:\n",
            "0.005 ms\n",
            "\n",
            "Test Result:\n",
            "\u001b[92mPASSED\u001b[0m\n",
            "\n",
            "\n",
            "\u001b[1mTEST CASE #1\u001b[0m\n",
            "\n",
            "Input:\n",
            "{'cards': [4, 2, 1, -1], 'query': 4}\n",
            "\n",
            "Expected Output:\n",
            "0\n",
            "\n",
            "\n",
            "Actual Output:\n",
            "0\n",
            "\n",
            "Execution Time:\n",
            "0.003 ms\n",
            "\n",
            "Test Result:\n",
            "\u001b[92mPASSED\u001b[0m\n",
            "\n",
            "\n",
            "\u001b[1mTEST CASE #2\u001b[0m\n",
            "\n",
            "Input:\n",
            "{'cards': [3, -1, -9, -127], 'query': -127}\n",
            "\n",
            "Expected Output:\n",
            "3\n",
            "\n",
            "\n",
            "Actual Output:\n",
            "3\n",
            "\n",
            "Execution Time:\n",
            "0.002 ms\n",
            "\n",
            "Test Result:\n",
            "\u001b[92mPASSED\u001b[0m\n",
            "\n",
            "\n",
            "\u001b[1mTEST CASE #3\u001b[0m\n",
            "\n",
            "Input:\n",
            "{'cards': [6], 'query': 6}\n",
            "\n",
            "Expected Output:\n",
            "0\n",
            "\n",
            "\n",
            "Actual Output:\n",
            "0\n",
            "\n",
            "Execution Time:\n",
            "0.002 ms\n",
            "\n",
            "Test Result:\n",
            "\u001b[92mPASSED\u001b[0m\n",
            "\n",
            "\n",
            "\u001b[1mTEST CASE #4\u001b[0m\n",
            "\n",
            "Input:\n",
            "{'cards': [9, 7, 5, 2, -9], 'query': 4}\n",
            "\n",
            "Expected Output:\n",
            "-1\n",
            "\n",
            "\n",
            "Actual Output:\n",
            "-1\n",
            "\n",
            "Execution Time:\n",
            "0.003 ms\n",
            "\n",
            "Test Result:\n",
            "\u001b[92mPASSED\u001b[0m\n",
            "\n",
            "\n",
            "\u001b[1mTEST CASE #5\u001b[0m\n",
            "\n",
            "Input:\n",
            "{'cards': [13, 11, 10, 7, 4, 3, 1, 0], 'query': 7}\n",
            "\n",
            "Expected Output:\n",
            "3\n",
            "\n",
            "\n",
            "Actual Output:\n",
            "3\n",
            "\n",
            "Execution Time:\n",
            "0.002 ms\n",
            "\n",
            "Test Result:\n",
            "\u001b[92mPASSED\u001b[0m\n",
            "\n",
            "\n",
            "\u001b[1mTEST CASE #6\u001b[0m\n",
            "\n",
            "Input:\n",
            "{'cards': [8, 8, 6, 6, 6, 6, 6, 3, 2, 2, 2, 0, 0, 0], 'query': 3}\n",
            "\n",
            "Expected Output:\n",
            "7\n",
            "\n",
            "\n",
            "Actual Output:\n",
            "7\n",
            "\n",
            "Execution Time:\n",
            "0.004 ms\n",
            "\n",
            "Test Result:\n",
            "\u001b[92mPASSED\u001b[0m\n",
            "\n",
            "\n",
            "\u001b[1mSUMMARY\u001b[0m\n",
            "\n",
            "TOTAL: 7, \u001b[92mPASSED\u001b[0m: 7, \u001b[91mFAILED\u001b[0m: 0\n"
          ]
        },
        {
          "output_type": "execute_result",
          "data": {
            "text/plain": [
              "[(6, True, 0.005),\n",
              " (0, True, 0.003),\n",
              " (3, True, 0.002),\n",
              " (0, True, 0.002),\n",
              " (-1, True, 0.003),\n",
              " (3, True, 0.002),\n",
              " (7, True, 0.004)]"
            ]
          },
          "metadata": {},
          "execution_count": 69
        }
      ]
    },
    {
      "cell_type": "code",
      "metadata": {
        "id": "iQE8drBPiDEj"
      },
      "source": [
        "def locate_card(cards,query):\n",
        "    position=0\n",
        "    print('cards:',cards)\n",
        "    print('query:',query)\n",
        "    while True:\n",
        "      print('Position:',position)\n",
        "      if cards[position]==query:\n",
        "        return position\n",
        "      position += 1\n",
        "      if position ==len(cards):\n",
        "        return -1"
      ],
      "execution_count": 75,
      "outputs": []
    },
    {
      "cell_type": "code",
      "metadata": {
        "colab": {
          "base_uri": "https://localhost:8080/",
          "height": 345
        },
        "id": "Mne5I_6KlLFp",
        "outputId": "0b51dbe8-9fe4-4656-e8e8-556f1ea2a980"
      },
      "source": [
        "locate_card(tests[-1]['input']['cards'],tests[-1]['input']['query'])"
      ],
      "execution_count": 76,
      "outputs": [
        {
          "output_type": "stream",
          "name": "stdout",
          "text": [
            "cards: []\n",
            "query: 7\n",
            "Position: 0\n"
          ]
        },
        {
          "output_type": "error",
          "ename": "IndexError",
          "evalue": "ignored",
          "traceback": [
            "\u001b[0;31m---------------------------------------------------------------------------\u001b[0m",
            "\u001b[0;31mIndexError\u001b[0m                                Traceback (most recent call last)",
            "\u001b[0;32m<ipython-input-76-ce1082045394>\u001b[0m in \u001b[0;36m<module>\u001b[0;34m()\u001b[0m\n\u001b[0;32m----> 1\u001b[0;31m \u001b[0mlocate_card\u001b[0m\u001b[0;34m(\u001b[0m\u001b[0mtests\u001b[0m\u001b[0;34m[\u001b[0m\u001b[0;34m-\u001b[0m\u001b[0;36m1\u001b[0m\u001b[0;34m]\u001b[0m\u001b[0;34m[\u001b[0m\u001b[0;34m'input'\u001b[0m\u001b[0;34m]\u001b[0m\u001b[0;34m[\u001b[0m\u001b[0;34m'cards'\u001b[0m\u001b[0;34m]\u001b[0m\u001b[0;34m,\u001b[0m\u001b[0mtests\u001b[0m\u001b[0;34m[\u001b[0m\u001b[0;34m-\u001b[0m\u001b[0;36m1\u001b[0m\u001b[0;34m]\u001b[0m\u001b[0;34m[\u001b[0m\u001b[0;34m'input'\u001b[0m\u001b[0;34m]\u001b[0m\u001b[0;34m[\u001b[0m\u001b[0;34m'query'\u001b[0m\u001b[0;34m]\u001b[0m\u001b[0;34m)\u001b[0m\u001b[0;34m\u001b[0m\u001b[0;34m\u001b[0m\u001b[0m\n\u001b[0m",
            "\u001b[0;32m<ipython-input-75-ac4d3906f4b1>\u001b[0m in \u001b[0;36mlocate_card\u001b[0;34m(cards, query)\u001b[0m\n\u001b[1;32m      5\u001b[0m     \u001b[0;32mwhile\u001b[0m \u001b[0;32mTrue\u001b[0m\u001b[0;34m:\u001b[0m\u001b[0;34m\u001b[0m\u001b[0;34m\u001b[0m\u001b[0m\n\u001b[1;32m      6\u001b[0m       \u001b[0mprint\u001b[0m\u001b[0;34m(\u001b[0m\u001b[0;34m'Position:'\u001b[0m\u001b[0;34m,\u001b[0m\u001b[0mposition\u001b[0m\u001b[0;34m)\u001b[0m\u001b[0;34m\u001b[0m\u001b[0;34m\u001b[0m\u001b[0m\n\u001b[0;32m----> 7\u001b[0;31m       \u001b[0;32mif\u001b[0m \u001b[0mcards\u001b[0m\u001b[0;34m[\u001b[0m\u001b[0mposition\u001b[0m\u001b[0;34m]\u001b[0m\u001b[0;34m==\u001b[0m\u001b[0mquery\u001b[0m\u001b[0;34m:\u001b[0m\u001b[0;34m\u001b[0m\u001b[0;34m\u001b[0m\u001b[0m\n\u001b[0m\u001b[1;32m      8\u001b[0m         \u001b[0;32mreturn\u001b[0m \u001b[0mposition\u001b[0m\u001b[0;34m\u001b[0m\u001b[0;34m\u001b[0m\u001b[0m\n\u001b[1;32m      9\u001b[0m       \u001b[0mposition\u001b[0m \u001b[0;34m+=\u001b[0m \u001b[0;36m1\u001b[0m\u001b[0;34m\u001b[0m\u001b[0;34m\u001b[0m\u001b[0m\n",
            "\u001b[0;31mIndexError\u001b[0m: list index out of range"
          ]
        }
      ]
    },
    {
      "cell_type": "code",
      "metadata": {
        "id": "8MAumoeMlh1d"
      },
      "source": [
        "def locate_card(cards,query):\n",
        "  position=0\n",
        "  while position<len(cards):\n",
        "    if cards[position]==query:\n",
        "      return position\n",
        "    position +=1\n",
        "  return -1"
      ],
      "execution_count": 77,
      "outputs": []
    },
    {
      "cell_type": "code",
      "metadata": {
        "colab": {
          "base_uri": "https://localhost:8080/"
        },
        "id": "A3hkT1AunXii",
        "outputId": "d5dd69c9-2744-4593-e9f4-95d0563d6816"
      },
      "source": [
        "locate_card(tests[-1]['input']['cards'],tests[-1]['input']['query'])"
      ],
      "execution_count": 78,
      "outputs": [
        {
          "output_type": "execute_result",
          "data": {
            "text/plain": [
              "-1"
            ]
          },
          "metadata": {},
          "execution_count": 78
        }
      ]
    },
    {
      "cell_type": "markdown",
      "metadata": {
        "id": "dK8cNu1_5r3j"
      },
      "source": [
        "### 7. Come up with a correct solution for the problem. State it in plain English.\n",
        "\n",
        "Here's how binary search can be applied to our problem:\n",
        "#Binary Search Algorithm\n",
        "1. Find the middle element of the list.\n",
        "2. If it matches queried number, return the middle position as the answer.\n",
        "3. If it is less than the queried number, then search the first half of the list\n",
        "3. If it is greater than the queried number, then search the second half of the list\n",
        "4. If no more elements remain, return -1."
      ]
    },
    {
      "cell_type": "code",
      "metadata": {
        "id": "ARELLW89-RXb"
      },
      "source": [
        "del tests[6]"
      ],
      "execution_count": 86,
      "outputs": []
    },
    {
      "cell_type": "code",
      "metadata": {
        "id": "33JNSOoknd-R"
      },
      "source": [
        "def locate_card(cards,query):\n",
        "    lo,hi=0,len(cards)-1\n",
        "\n",
        "    while lo<=hi:\n",
        "      mid=(lo+hi)//2\n",
        "      mid_num=cards[mid]\n",
        "\n",
        "      print('lo:',lo,',hi:',hi,',mid_val:',mid_num,',mid',mid)\n",
        "\n",
        "      if mid_num==query:\n",
        "          return mid\n",
        "      elif mid_num<query:\n",
        "          hi=mid-1\n",
        "      elif mid_num>query:\n",
        "          lo=mid+1\n",
        "    return -1"
      ],
      "execution_count": 81,
      "outputs": []
    },
    {
      "cell_type": "code",
      "metadata": {
        "colab": {
          "base_uri": "https://localhost:8080/"
        },
        "id": "OR6CFAIx-LA2",
        "outputId": "f2b91712-efec-4cff-cf29-ad59088ae814"
      },
      "source": [
        "evaluate_test_cases(locate_card,tests)"
      ],
      "execution_count": 92,
      "outputs": [
        {
          "output_type": "stream",
          "name": "stdout",
          "text": [
            "\n",
            "\u001b[1mTEST CASE #0\u001b[0m\n",
            "lo: 0 ,hi: 7 ,mid_val: 7 ,mid 3\n",
            "lo: 4 ,hi: 7 ,mid_val: 3 ,mid 5\n",
            "lo: 6 ,hi: 7 ,mid_val: 1 ,mid 6\n",
            "\n",
            "Input:\n",
            "{'cards': [13, 11, 10, 7, 4, 3, 1, 0], 'query': 1}\n",
            "\n",
            "Expected Output:\n",
            "6\n",
            "\n",
            "\n",
            "Actual Output:\n",
            "6\n",
            "\n",
            "Execution Time:\n",
            "0.455 ms\n",
            "\n",
            "Test Result:\n",
            "\u001b[92mPASSED\u001b[0m\n",
            "\n",
            "\n",
            "\u001b[1mTEST CASE #1\u001b[0m\n",
            "lo: 0 ,hi: 3 ,mid_val: 2 ,mid 1\n",
            "lo: 0 ,hi: 0 ,mid_val: 4 ,mid 0\n",
            "\n",
            "Input:\n",
            "{'cards': [4, 2, 1, -1], 'query': 4}\n",
            "\n",
            "Expected Output:\n",
            "0\n",
            "\n",
            "\n",
            "Actual Output:\n",
            "0\n",
            "\n",
            "Execution Time:\n",
            "5.807 ms\n",
            "\n",
            "Test Result:\n",
            "\u001b[92mPASSED\u001b[0m\n",
            "\n",
            "\n",
            "\u001b[1mTEST CASE #2\u001b[0m\n",
            "lo: 0 ,hi: 3 ,mid_val: -1 ,mid 1\n",
            "lo: 2 ,hi: 3 ,mid_val: -9 ,mid 2\n",
            "lo: 3 ,hi: 3 ,mid_val: -127 ,mid 3\n",
            "\n",
            "Input:\n",
            "{'cards': [3, -1, -9, -127], 'query': -127}\n",
            "\n",
            "Expected Output:\n",
            "3\n",
            "\n",
            "\n",
            "Actual Output:\n",
            "3\n",
            "\n",
            "Execution Time:\n",
            "0.246 ms\n",
            "\n",
            "Test Result:\n",
            "\u001b[92mPASSED\u001b[0m\n",
            "\n",
            "\n",
            "\u001b[1mTEST CASE #3\u001b[0m\n",
            "lo: 0 ,hi: 0 ,mid_val: 6 ,mid 0\n",
            "\n",
            "Input:\n",
            "{'cards': [6], 'query': 6}\n",
            "\n",
            "Expected Output:\n",
            "0\n",
            "\n",
            "\n",
            "Actual Output:\n",
            "0\n",
            "\n",
            "Execution Time:\n",
            "0.08 ms\n",
            "\n",
            "Test Result:\n",
            "\u001b[92mPASSED\u001b[0m\n",
            "\n",
            "\n",
            "\u001b[1mTEST CASE #4\u001b[0m\n",
            "lo: 0 ,hi: 4 ,mid_val: 5 ,mid 2\n",
            "lo: 3 ,hi: 4 ,mid_val: 2 ,mid 3\n",
            "\n",
            "Input:\n",
            "{'cards': [9, 7, 5, 2, -9], 'query': 4}\n",
            "\n",
            "Expected Output:\n",
            "-1\n",
            "\n",
            "\n",
            "Actual Output:\n",
            "-1\n",
            "\n",
            "Execution Time:\n",
            "0.159 ms\n",
            "\n",
            "Test Result:\n",
            "\u001b[92mPASSED\u001b[0m\n",
            "\n",
            "\n",
            "\u001b[1mTEST CASE #5\u001b[0m\n",
            "lo: 0 ,hi: 7 ,mid_val: 7 ,mid 3\n",
            "\n",
            "Input:\n",
            "{'cards': [13, 11, 10, 7, 4, 3, 1, 0], 'query': 7}\n",
            "\n",
            "Expected Output:\n",
            "3\n",
            "\n",
            "\n",
            "Actual Output:\n",
            "3\n",
            "\n",
            "Execution Time:\n",
            "0.32 ms\n",
            "\n",
            "Test Result:\n",
            "\u001b[92mPASSED\u001b[0m\n",
            "\n",
            "\n",
            "\u001b[1mTEST CASE #6\u001b[0m\n",
            "\n",
            "Input:\n",
            "{'cards': [], 'query': 7}\n",
            "\n",
            "Expected Output:\n",
            "-1\n",
            "\n",
            "\n",
            "Actual Output:\n",
            "-1\n",
            "\n",
            "Execution Time:\n",
            "0.002 ms\n",
            "\n",
            "Test Result:\n",
            "\u001b[92mPASSED\u001b[0m\n",
            "\n",
            "\n",
            "\u001b[1mTEST CASE #7\u001b[0m\n",
            "lo: 0 ,hi: 14 ,mid_val: 6 ,mid 7\n",
            "\n",
            "Input:\n",
            "{'cards': [8, 8, 6, 6, 6, 6, 6, 6, 3, 2, 2, 2, 0, 0, 0], 'query': 6}\n",
            "\n",
            "Expected Output:\n",
            "2\n",
            "\n",
            "\n",
            "Actual Output:\n",
            "7\n",
            "\n",
            "Execution Time:\n",
            "0.081 ms\n",
            "\n",
            "Test Result:\n",
            "\u001b[91mFAILED\u001b[0m\n",
            "\n",
            "\n",
            "\u001b[1mSUMMARY\u001b[0m\n",
            "\n",
            "TOTAL: 8, \u001b[92mPASSED\u001b[0m: 7, \u001b[91mFAILED\u001b[0m: 1\n"
          ]
        },
        {
          "output_type": "execute_result",
          "data": {
            "text/plain": [
              "[(6, True, 0.455),\n",
              " (0, True, 5.807),\n",
              " (3, True, 0.246),\n",
              " (0, True, 0.08),\n",
              " (-1, True, 0.159),\n",
              " (3, True, 0.32),\n",
              " (-1, True, 0.002),\n",
              " (7, False, 0.081)]"
            ]
          },
          "metadata": {},
          "execution_count": 92
        },
        {
          "output_type": "stream",
          "name": "stdout",
          "text": [
            "\n",
            "\u001b[1mTEST CASE #0\u001b[0m\n",
            "lo: 0 ,hi: 7 ,mid_val: 7 ,mid 3\n",
            "lo: 4 ,hi: 7 ,mid_val: 3 ,mid 5\n",
            "lo: 6 ,hi: 7 ,mid_val: 1 ,mid 6\n",
            "\n",
            "Input:\n",
            "{'cards': [13, 11, 10, 7, 4, 3, 1, 0], 'query': 1}\n",
            "\n",
            "Expected Output:\n",
            "6\n",
            "\n",
            "\n",
            "Actual Output:\n",
            "6\n",
            "\n",
            "Execution Time:\n",
            "0.248 ms\n",
            "\n",
            "Test Result:\n",
            "\u001b[92mPASSED\u001b[0m\n",
            "\n",
            "\n",
            "\u001b[1mTEST CASE #1\u001b[0m\n",
            "lo: 0 ,hi: 3 ,mid_val: 2 ,mid 1\n",
            "lo: 0 ,hi: 0 ,mid_val: 4 ,mid 0\n",
            "\n",
            "Input:\n",
            "{'cards': [4, 2, 1, -1], 'query': 4}\n",
            "\n",
            "Expected Output:\n",
            "0\n",
            "\n",
            "\n",
            "Actual Output:\n",
            "0\n",
            "\n",
            "Execution Time:\n",
            "0.167 ms\n",
            "\n",
            "Test Result:\n",
            "\u001b[92mPASSED\u001b[0m\n",
            "\n",
            "\n",
            "\u001b[1mTEST CASE #2\u001b[0m\n",
            "lo: 0 ,hi: 3 ,mid_val: -1 ,mid 1\n",
            "lo: 2 ,hi: 3 ,mid_val: -9 ,mid 2\n",
            "lo: 3 ,hi: 3 ,mid_val: -127 ,mid 3\n",
            "\n",
            "Input:\n",
            "{'cards': [3, -1, -9, -127], 'query': -127}\n",
            "\n",
            "Expected Output:\n",
            "3\n",
            "\n",
            "\n",
            "Actual Output:\n",
            "3\n",
            "\n",
            "Execution Time:\n",
            "0.572 ms\n",
            "\n",
            "Test Result:\n",
            "\u001b[92mPASSED\u001b[0m\n",
            "\n",
            "\n",
            "\u001b[1mTEST CASE #3\u001b[0m\n",
            "lo: 0 ,hi: 0 ,mid_val: 6 ,mid 0\n",
            "\n",
            "Input:\n",
            "{'cards': [6], 'query': 6}\n",
            "\n",
            "Expected Output:\n",
            "0\n",
            "\n",
            "\n",
            "Actual Output:\n",
            "0\n",
            "\n",
            "Execution Time:\n",
            "0.154 ms\n",
            "\n",
            "Test Result:\n",
            "\u001b[92mPASSED\u001b[0m\n",
            "\n",
            "\n",
            "\u001b[1mTEST CASE #4\u001b[0m\n",
            "lo: 0 ,hi: 4 ,mid_val: 5 ,mid 2\n",
            "lo: 3 ,hi: 4 ,mid_val: 2 ,mid 3\n",
            "\n",
            "Input:\n",
            "{'cards': [9, 7, 5, 2, -9], 'query': 4}\n",
            "\n",
            "Expected Output:\n",
            "-1\n",
            "\n",
            "\n",
            "Actual Output:\n",
            "-1\n",
            "\n",
            "Execution Time:\n",
            "0.302 ms\n",
            "\n",
            "Test Result:\n",
            "\u001b[92mPASSED\u001b[0m\n",
            "\n",
            "\n",
            "\u001b[1mTEST CASE #5\u001b[0m\n",
            "lo: 0 ,hi: 7 ,mid_val: 7 ,mid 3\n",
            "\n",
            "Input:\n",
            "{'cards': [13, 11, 10, 7, 4, 3, 1, 0], 'query': 7}\n",
            "\n",
            "Expected Output:\n",
            "3\n",
            "\n",
            "\n",
            "Actual Output:\n",
            "3\n",
            "\n",
            "Execution Time:\n",
            "0.312 ms\n",
            "\n",
            "Test Result:\n",
            "\u001b[92mPASSED\u001b[0m\n",
            "\n",
            "\n",
            "\u001b[1mTEST CASE #6\u001b[0m\n",
            "\n",
            "Input:\n",
            "{'cards': [], 'query': 7}\n",
            "\n",
            "Expected Output:\n",
            "-1\n",
            "\n",
            "\n",
            "Actual Output:\n",
            "-1\n",
            "\n",
            "Execution Time:\n",
            "0.003 ms\n",
            "\n",
            "Test Result:\n",
            "\u001b[92mPASSED\u001b[0m\n",
            "\n",
            "\n",
            "\u001b[1mTEST CASE #7\u001b[0m\n",
            "lo: 0 ,hi: 14 ,mid_val: 6 ,mid 7\n",
            "\n",
            "Input:\n",
            "{'cards': [8, 8, 6, 6, 6, 6, 6, 6, 3, 2, 2, 2, 0, 0, 0], 'query': 6}\n",
            "\n",
            "Expected Output:\n",
            "2\n",
            "\n",
            "\n",
            "Actual Output:\n",
            "7\n",
            "\n",
            "Execution Time:\n",
            "0.204 ms\n",
            "\n",
            "Test Result:\n",
            "\u001b[91mFAILED\u001b[0m\n",
            "\n",
            "\n",
            "\u001b[1mSUMMARY\u001b[0m\n",
            "\n",
            "TOTAL: 8, \u001b[92mPASSED\u001b[0m: 7, \u001b[91mFAILED\u001b[0m: 1\n"
          ]
        },
        {
          "output_type": "execute_result",
          "data": {
            "text/plain": [
              "[(6, True, 0.248),\n",
              " (0, True, 0.167),\n",
              " (3, True, 0.572),\n",
              " (0, True, 0.154),\n",
              " (-1, True, 0.302),\n",
              " (3, True, 0.312),\n",
              " (-1, True, 0.003),\n",
              " (7, False, 0.204)]"
            ]
          },
          "metadata": {},
          "execution_count": 93
        }
      ]
    },
    {
      "cell_type": "code",
      "metadata": {
        "id": "uU6Rg1BlD8Sn"
      },
      "source": [
        "del tests[-2]"
      ],
      "execution_count": 91,
      "outputs": []
    },
    {
      "cell_type": "code",
      "metadata": {
        "colab": {
          "base_uri": "https://localhost:8080/"
        },
        "id": "BFyfCHZREOQp",
        "outputId": "ddc111ab-801c-47cc-da42-960d6fddf0a4"
      },
      "source": [
        "evaluate_test_case(locate_card,tests[7])"
      ],
      "execution_count": 96,
      "outputs": [
        {
          "output_type": "stream",
          "name": "stdout",
          "text": [
            "\n",
            "Input:\n",
            "{'cards': [8, 8, 6, 6, 6, 6, 6, 6, 3, 2, 2, 2, 0, 0, 0], 'query': 6}\n",
            "\n",
            "Expected Output:\n",
            "2\n",
            "\n",
            "lo: 0 ,hi: 14 ,mid_val: 6 ,mid 7\n",
            "\n",
            "Actual Output:\n",
            "7\n",
            "\n",
            "Execution Time:\n",
            "0.14 ms\n",
            "\n",
            "Test Result:\n",
            "\u001b[91mFAILED\u001b[0m\n",
            "\n"
          ]
        },
        {
          "output_type": "execute_result",
          "data": {
            "text/plain": [
              "(7, False, 0.14)"
            ]
          },
          "metadata": {},
          "execution_count": 96
        }
      ]
    },
    {
      "cell_type": "code",
      "metadata": {
        "id": "cMYXz3njFUvD"
      },
      "source": [
        "def test_location(cards,query,mid):\n",
        "    mid_number=cards[mid]\n",
        "    print('mid:', mid,',mid_number:', mid_number)\n",
        "    if mid_number == query:\n",
        "        if mid-1 >=0 and cards[mid-1]==query:\n",
        "            return 'left'\n",
        "        else:\n",
        "            return 'found'\n",
        "    elif mid_number< query:\n",
        "        return 'left'\n",
        "    else:\n",
        "        return 'right'\n",
        "\n",
        "def locate_card(cards,query):\n",
        "    lo,hi=0,len(cards)-1\n",
        "    while lo<=hi:\n",
        "        print('lo:',lo,',hi:',hi)\n",
        "        mid=(lo+hi) // 2\n",
        "        result=test_location(cards,query,mid)\n",
        "\n",
        "        if result=='found':\n",
        "          return mid\n",
        "        elif result=='left':\n",
        "          hi= mid -1\n",
        "        elif result=='right':\n",
        "          lo= mid +1\n",
        "    return -1"
      ],
      "execution_count": 18,
      "outputs": []
    },
    {
      "cell_type": "code",
      "metadata": {
        "colab": {
          "base_uri": "https://localhost:8080/"
        },
        "id": "IE4kDzwpLsAS",
        "outputId": "da2135b7-a07e-4115-996d-82a695852ca7"
      },
      "source": [
        "evaluate_test_case(locate_card,tests[7])"
      ],
      "execution_count": 106,
      "outputs": [
        {
          "output_type": "stream",
          "name": "stdout",
          "text": [
            "\n",
            "Input:\n",
            "{'cards': [8, 8, 6, 6, 6, 6, 6, 6, 3, 2, 2, 2, 0, 0, 0], 'query': 6}\n",
            "\n",
            "Expected Output:\n",
            "2\n",
            "\n",
            "lo: 0 ,hi: 14\n",
            "mid: 7 ,mid_number: 6\n",
            "lo: 0 ,hi: 6\n",
            "mid: 3 ,mid_number: 6\n",
            "lo: 0 ,hi: 2\n",
            "mid: 1 ,mid_number: 8\n",
            "lo: 2 ,hi: 2\n",
            "mid: 2 ,mid_number: 6\n",
            "\n",
            "Actual Output:\n",
            "2\n",
            "\n",
            "Execution Time:\n",
            "4.792 ms\n",
            "\n",
            "Test Result:\n",
            "\u001b[92mPASSED\u001b[0m\n",
            "\n"
          ]
        },
        {
          "output_type": "execute_result",
          "data": {
            "text/plain": [
              "(2, True, 4.792)"
            ]
          },
          "metadata": {},
          "execution_count": 106
        }
      ]
    },
    {
      "cell_type": "code",
      "metadata": {
        "colab": {
          "base_uri": "https://localhost:8080/"
        },
        "id": "iN6qJVftLwFk",
        "outputId": "a8b546b4-ff0e-4a0c-c3f6-da34be855c2f"
      },
      "source": [
        "evaluate_test_cases(locate_card,tests)"
      ],
      "execution_count": 107,
      "outputs": [
        {
          "output_type": "stream",
          "name": "stdout",
          "text": [
            "\n",
            "\u001b[1mTEST CASE #0\u001b[0m\n",
            "lo: 0 ,hi: 7\n",
            "mid: 3 ,mid_number: 7\n",
            "lo: 4 ,hi: 7\n",
            "mid: 5 ,mid_number: 3\n",
            "lo: 6 ,hi: 7\n",
            "mid: 6 ,mid_number: 1\n",
            "\n",
            "Input:\n",
            "{'cards': [13, 11, 10, 7, 4, 3, 1, 0], 'query': 1}\n",
            "\n",
            "Expected Output:\n",
            "6\n",
            "\n",
            "\n",
            "Actual Output:\n",
            "6\n",
            "\n",
            "Execution Time:\n",
            "1.492 ms\n",
            "\n",
            "Test Result:\n",
            "\u001b[92mPASSED\u001b[0m\n",
            "\n",
            "\n",
            "\u001b[1mTEST CASE #1\u001b[0m\n",
            "lo: 0 ,hi: 3\n",
            "mid: 1 ,mid_number: 2\n",
            "lo: 0 ,hi: 0\n",
            "mid: 0 ,mid_number: 4\n",
            "\n",
            "Input:\n",
            "{'cards': [4, 2, 1, -1], 'query': 4}\n",
            "\n",
            "Expected Output:\n",
            "0\n",
            "\n",
            "\n",
            "Actual Output:\n",
            "0\n",
            "\n",
            "Execution Time:\n",
            "0.399 ms\n",
            "\n",
            "Test Result:\n",
            "\u001b[92mPASSED\u001b[0m\n",
            "\n",
            "\n",
            "\u001b[1mTEST CASE #2\u001b[0m\n",
            "lo: 0 ,hi: 3\n",
            "mid: 1 ,mid_number: -1\n",
            "lo: 2 ,hi: 3\n",
            "mid: 2 ,mid_number: -9\n",
            "lo: 3 ,hi: 3\n",
            "mid: 3 ,mid_number: -127\n",
            "\n",
            "Input:\n",
            "{'cards': [3, -1, -9, -127], 'query': -127}\n",
            "\n",
            "Expected Output:\n",
            "3\n",
            "\n",
            "\n",
            "Actual Output:\n",
            "3\n",
            "\n",
            "Execution Time:\n",
            "3.096 ms\n",
            "\n",
            "Test Result:\n",
            "\u001b[92mPASSED\u001b[0m\n",
            "\n",
            "\n",
            "\u001b[1mTEST CASE #3\u001b[0m\n",
            "lo: 0 ,hi: 0\n",
            "mid: 0 ,mid_number: 6\n",
            "\n",
            "Input:\n",
            "{'cards': [6], 'query': 6}\n",
            "\n",
            "Expected Output:\n",
            "0\n",
            "\n",
            "\n",
            "Actual Output:\n",
            "0\n",
            "\n",
            "Execution Time:\n",
            "0.613 ms\n",
            "\n",
            "Test Result:\n",
            "\u001b[92mPASSED\u001b[0m\n",
            "\n",
            "\n",
            "\u001b[1mTEST CASE #4\u001b[0m\n",
            "lo: 0 ,hi: 4\n",
            "mid: 2 ,mid_number: 5\n",
            "lo: 3 ,hi: 4\n",
            "mid: 3 ,mid_number: 2\n",
            "\n",
            "Input:\n",
            "{'cards': [9, 7, 5, 2, -9], 'query': 4}\n",
            "\n",
            "Expected Output:\n",
            "-1\n",
            "\n",
            "\n",
            "Actual Output:\n",
            "-1\n",
            "\n",
            "Execution Time:\n",
            "0.215 ms\n",
            "\n",
            "Test Result:\n",
            "\u001b[92mPASSED\u001b[0m\n",
            "\n",
            "\n",
            "\u001b[1mTEST CASE #5\u001b[0m\n",
            "lo: 0 ,hi: 7\n",
            "mid: 3 ,mid_number: 7\n",
            "\n",
            "Input:\n",
            "{'cards': [13, 11, 10, 7, 4, 3, 1, 0], 'query': 7}\n",
            "\n",
            "Expected Output:\n",
            "3\n",
            "\n",
            "\n",
            "Actual Output:\n",
            "3\n",
            "\n",
            "Execution Time:\n",
            "0.102 ms\n",
            "\n",
            "Test Result:\n",
            "\u001b[92mPASSED\u001b[0m\n",
            "\n",
            "\n",
            "\u001b[1mTEST CASE #6\u001b[0m\n",
            "\n",
            "Input:\n",
            "{'cards': [], 'query': 7}\n",
            "\n",
            "Expected Output:\n",
            "-1\n",
            "\n",
            "\n",
            "Actual Output:\n",
            "-1\n",
            "\n",
            "Execution Time:\n",
            "0.003 ms\n",
            "\n",
            "Test Result:\n",
            "\u001b[92mPASSED\u001b[0m\n",
            "\n",
            "\n",
            "\u001b[1mTEST CASE #7\u001b[0m\n",
            "lo: 0 ,hi: 14\n",
            "mid: 7 ,mid_number: 6\n",
            "lo: 0 ,hi: 6\n",
            "mid: 3 ,mid_number: 6\n",
            "lo: 0 ,hi: 2\n",
            "mid: 1 ,mid_number: 8\n",
            "lo: 2 ,hi: 2\n",
            "mid: 2 ,mid_number: 6\n",
            "\n",
            "Input:\n",
            "{'cards': [8, 8, 6, 6, 6, 6, 6, 6, 3, 2, 2, 2, 0, 0, 0], 'query': 6}\n",
            "\n",
            "Expected Output:\n",
            "2\n",
            "\n",
            "\n",
            "Actual Output:\n",
            "2\n",
            "\n",
            "Execution Time:\n",
            "5.768 ms\n",
            "\n",
            "Test Result:\n",
            "\u001b[92mPASSED\u001b[0m\n",
            "\n",
            "\n",
            "\u001b[1mSUMMARY\u001b[0m\n",
            "\n",
            "TOTAL: 8, \u001b[92mPASSED\u001b[0m: 8, \u001b[91mFAILED\u001b[0m: 0\n"
          ]
        },
        {
          "output_type": "execute_result",
          "data": {
            "text/plain": [
              "[(6, True, 1.492),\n",
              " (0, True, 0.399),\n",
              " (3, True, 3.096),\n",
              " (0, True, 0.613),\n",
              " (-1, True, 0.215),\n",
              " (3, True, 0.102),\n",
              " (-1, True, 0.003),\n",
              " (2, True, 5.768)]"
            ]
          },
          "metadata": {},
          "execution_count": 107
        }
      ]
    },
    {
      "cell_type": "code",
      "metadata": {
        "colab": {
          "base_uri": "https://localhost:8080/"
        },
        "id": "7lM9WgB0Mp_b",
        "outputId": "89a96f41-1a93-4cd2-d2a7-0830e1863933"
      },
      "source": [
        "for i in range(len(tests)):\n",
        "  print(locate_card(tests[i]['input']['cards'],tests[i]['input']['query']))"
      ],
      "execution_count": 122,
      "outputs": [
        {
          "output_type": "stream",
          "name": "stdout",
          "text": [
            "lo: 0 ,hi: 7\n",
            "mid: 3 ,mid_number: 7\n",
            "lo: 4 ,hi: 7\n",
            "mid: 5 ,mid_number: 3\n",
            "lo: 6 ,hi: 7\n",
            "mid: 6 ,mid_number: 1\n",
            "6\n",
            "lo: 0 ,hi: 3\n",
            "mid: 1 ,mid_number: 2\n",
            "lo: 0 ,hi: 0\n",
            "mid: 0 ,mid_number: 4\n",
            "0\n",
            "lo: 0 ,hi: 3\n",
            "mid: 1 ,mid_number: -1\n",
            "lo: 2 ,hi: 3\n",
            "mid: 2 ,mid_number: -9\n",
            "lo: 3 ,hi: 3\n",
            "mid: 3 ,mid_number: -127\n",
            "3\n",
            "lo: 0 ,hi: 0\n",
            "mid: 0 ,mid_number: 6\n",
            "0\n",
            "lo: 0 ,hi: 4\n",
            "mid: 2 ,mid_number: 5\n",
            "lo: 3 ,hi: 4\n",
            "mid: 3 ,mid_number: 2\n",
            "-1\n",
            "lo: 0 ,hi: 7\n",
            "mid: 3 ,mid_number: 7\n",
            "3\n",
            "-1\n",
            "lo: 0 ,hi: 14\n",
            "mid: 7 ,mid_number: 6\n",
            "lo: 0 ,hi: 6\n",
            "mid: 3 ,mid_number: 6\n",
            "lo: 0 ,hi: 2\n",
            "mid: 1 ,mid_number: 8\n",
            "lo: 2 ,hi: 2\n",
            "mid: 2 ,mid_number: 6\n",
            "2\n"
          ]
        }
      ]
    },
    {
      "cell_type": "code",
      "metadata": {
        "colab": {
          "base_uri": "https://localhost:8080/"
        },
        "id": "VfQrO8l_M9it",
        "outputId": "d6aa90d1-cb65-4c41-a271-5709b578654e"
      },
      "source": [
        "tests"
      ],
      "execution_count": 123,
      "outputs": [
        {
          "output_type": "execute_result",
          "data": {
            "text/plain": [
              "[{'input': {'cards': [13, 11, 10, 7, 4, 3, 1, 0], 'query': 1}, 'output': 6},\n",
              " {'input': {'cards': [4, 2, 1, -1], 'query': 4}, 'output': 0},\n",
              " {'input': {'cards': [3, -1, -9, -127], 'query': -127}, 'output': 3},\n",
              " {'input': {'cards': [6], 'query': 6}, 'output': 0},\n",
              " {'input': {'cards': [9, 7, 5, 2, -9], 'query': 4}, 'output': -1},\n",
              " {'input': {'cards': [13, 11, 10, 7, 4, 3, 1, 0], 'query': 7}, 'output': 3},\n",
              " {'input': {'cards': [], 'query': 7}, 'output': -1},\n",
              " {'input': {'cards': [8, 8, 6, 6, 6, 6, 6, 6, 3, 2, 2, 2, 0, 0, 0],\n",
              "   'query': 6},\n",
              "  'output': 2}]"
            ]
          },
          "metadata": {},
          "execution_count": 123
        }
      ]
    },
    {
      "cell_type": "code",
      "metadata": {
        "id": "F2wjtohgOSXR"
      },
      "source": [
        "#Binary vs linear card\n",
        "\n",
        "def locate_card_linar(cards,query):\n",
        "    position=0\n",
        "    while position< len(cards):\n",
        "        if cards[position]==query:\n",
        "            return position\n",
        "        position+=1\n",
        "    return -1\n",
        "      "
      ],
      "execution_count": 16,
      "outputs": []
    },
    {
      "cell_type": "code",
      "metadata": {
        "id": "r4qxl6KbGSYB"
      },
      "source": [
        "large_test={\n",
        "    'input':{\n",
        "        'cards':list(range(10000000,0,-1)),\n",
        "        'query':2\n",
        "    },\n",
        "    'output':9999998\n",
        "}"
      ],
      "execution_count": 10,
      "outputs": []
    },
    {
      "cell_type": "code",
      "metadata": {
        "colab": {
          "base_uri": "https://localhost:8080/"
        },
        "id": "gLUeeV1THl7W",
        "outputId": "217ad145-ed4d-4a43-e342-ff61824120ea"
      },
      "source": [
        "result,passed,runtime=evaluate_test_case(locate_card_linar,large_test,display=False)\n",
        "print(\"Result:{}\\nPassed: {}\\nExecution Time: {} ms\".format(result,passed,runtime))"
      ],
      "execution_count": 17,
      "outputs": [
        {
          "output_type": "stream",
          "name": "stdout",
          "text": [
            "Result:9999998\n",
            "Passed: True\n",
            "Execution Time: 1933.775 ms\n"
          ]
        }
      ]
    },
    {
      "cell_type": "code",
      "metadata": {
        "colab": {
          "base_uri": "https://localhost:8080/"
        },
        "id": "yA1pJV-XIYZ8",
        "outputId": "40f38149-72f5-404f-c436-4675b89dc1b8"
      },
      "source": [
        "result,passed,runtime=evaluate_test_case(locate_card,large_test,display=False)\n",
        "print(\"Result:{}\\nPassed: {}\\nExecution Time: {} ms\".format(result,passed,runtime))"
      ],
      "execution_count": 19,
      "outputs": [
        {
          "output_type": "stream",
          "name": "stdout",
          "text": [
            "lo: 0 ,hi: 9999999\n",
            "mid: 4999999 ,mid_number: 5000001\n",
            "lo: 5000000 ,hi: 9999999\n",
            "mid: 7499999 ,mid_number: 2500001\n",
            "lo: 7500000 ,hi: 9999999\n",
            "mid: 8749999 ,mid_number: 1250001\n",
            "lo: 8750000 ,hi: 9999999\n",
            "mid: 9374999 ,mid_number: 625001\n",
            "lo: 9375000 ,hi: 9999999\n",
            "mid: 9687499 ,mid_number: 312501\n",
            "lo: 9687500 ,hi: 9999999\n",
            "mid: 9843749 ,mid_number: 156251\n",
            "lo: 9843750 ,hi: 9999999\n",
            "mid: 9921874 ,mid_number: 78126\n",
            "lo: 9921875 ,hi: 9999999\n",
            "mid: 9960937 ,mid_number: 39063\n",
            "lo: 9960938 ,hi: 9999999\n",
            "mid: 9980468 ,mid_number: 19532\n",
            "lo: 9980469 ,hi: 9999999\n",
            "mid: 9990234 ,mid_number: 9766\n",
            "lo: 9990235 ,hi: 9999999\n",
            "mid: 9995117 ,mid_number: 4883\n",
            "lo: 9995118 ,hi: 9999999\n",
            "mid: 9997558 ,mid_number: 2442\n",
            "lo: 9997559 ,hi: 9999999\n",
            "mid: 9998779 ,mid_number: 1221\n",
            "lo: 9998780 ,hi: 9999999\n",
            "mid: 9999389 ,mid_number: 611\n",
            "lo: 9999390 ,hi: 9999999\n",
            "mid: 9999694 ,mid_number: 306\n",
            "lo: 9999695 ,hi: 9999999\n",
            "mid: 9999847 ,mid_number: 153\n",
            "lo: 9999848 ,hi: 9999999\n",
            "mid: 9999923 ,mid_number: 77\n",
            "lo: 9999924 ,hi: 9999999\n",
            "mid: 9999961 ,mid_number: 39\n",
            "lo: 9999962 ,hi: 9999999\n",
            "mid: 9999980 ,mid_number: 20\n",
            "lo: 9999981 ,hi: 9999999\n",
            "mid: 9999990 ,mid_number: 10\n",
            "lo: 9999991 ,hi: 9999999\n",
            "mid: 9999995 ,mid_number: 5\n",
            "lo: 9999996 ,hi: 9999999\n",
            "mid: 9999997 ,mid_number: 3\n",
            "lo: 9999998 ,hi: 9999999\n",
            "mid: 9999998 ,mid_number: 2\n",
            "Result:9999998\n",
            "Passed: True\n",
            "Execution Time: 4.84 ms\n"
          ]
        }
      ]
    },
    {
      "cell_type": "code",
      "metadata": {
        "id": "f9hXAk71JAms"
      },
      "source": [
        "def binary_search(lo,hi,condition):\n",
        "    while lo<=hi:\n",
        "      mid=(lo+hi)//2\n",
        "      result=condition(mid)\n",
        "      if result=='found':\n",
        "        return mid\n",
        "      elif result=='left':\n",
        "        hi=mid-1\n",
        "      else:\n",
        "        lo=mid+1\n",
        "    return -1"
      ],
      "execution_count": 20,
      "outputs": []
    },
    {
      "cell_type": "code",
      "metadata": {
        "id": "cUHYCgjZMB9k"
      },
      "source": [
        "def locate_card(cards,query):\n",
        "    def condition(mid):\n",
        "        if cards[mid]==query:\n",
        "            if mid >0 and cards[mid-1]==query:\n",
        "                return 'left'\n",
        "            else:\n",
        "                return 'found'\n",
        "        elif cards[mid] < query:\n",
        "            return 'left'\n",
        "        else:\n",
        "          return 'right'\n",
        "    return binary_search(0,len(cards)-1,condition)        "
      ],
      "execution_count": 21,
      "outputs": []
    },
    {
      "cell_type": "code",
      "metadata": {
        "colab": {
          "base_uri": "https://localhost:8080/"
        },
        "id": "95j5KypPQJ_x",
        "outputId": "cf3ba33f-b5e9-4033-a9d0-d0c16a0fb82f"
      },
      "source": [
        "evaluate_test_cases(locate_card,tests)"
      ],
      "execution_count": 37,
      "outputs": [
        {
          "output_type": "stream",
          "name": "stdout",
          "text": [
            "\n",
            "\u001b[1mTEST CASE #0\u001b[0m\n",
            "\n",
            "Input:\n",
            "{'cards': [13, 11, 10, 7, 4, 3, 1, 0], 'query': 7}\n",
            "\n",
            "Expected Output:\n",
            "3\n",
            "\n",
            "\n",
            "Actual Output:\n",
            "3\n",
            "\n",
            "Execution Time:\n",
            "0.01 ms\n",
            "\n",
            "Test Result:\n",
            "\u001b[92mPASSED\u001b[0m\n",
            "\n",
            "\n",
            "\u001b[1mTEST CASE #1\u001b[0m\n",
            "\n",
            "Input:\n",
            "{'cards': [13, 11, 10, 7, 4, 3, 1, 0], 'query': 1}\n",
            "\n",
            "Expected Output:\n",
            "6\n",
            "\n",
            "\n",
            "Actual Output:\n",
            "6\n",
            "\n",
            "Execution Time:\n",
            "0.007 ms\n",
            "\n",
            "Test Result:\n",
            "\u001b[92mPASSED\u001b[0m\n",
            "\n",
            "\n",
            "\u001b[1mTEST CASE #2\u001b[0m\n",
            "\n",
            "Input:\n",
            "{'cards': [4, 2, 1, -1], 'query': 4}\n",
            "\n",
            "Expected Output:\n",
            "0\n",
            "\n",
            "\n",
            "Actual Output:\n",
            "0\n",
            "\n",
            "Execution Time:\n",
            "0.006 ms\n",
            "\n",
            "Test Result:\n",
            "\u001b[92mPASSED\u001b[0m\n",
            "\n",
            "\n",
            "\u001b[1mTEST CASE #3\u001b[0m\n",
            "\n",
            "Input:\n",
            "{'cards': [3, -1, -9, -127], 'query': -127}\n",
            "\n",
            "Expected Output:\n",
            "3\n",
            "\n",
            "\n",
            "Actual Output:\n",
            "3\n",
            "\n",
            "Execution Time:\n",
            "0.007 ms\n",
            "\n",
            "Test Result:\n",
            "\u001b[92mPASSED\u001b[0m\n",
            "\n",
            "\n",
            "\u001b[1mTEST CASE #4\u001b[0m\n",
            "\n",
            "Input:\n",
            "{'cards': [6], 'query': 6}\n",
            "\n",
            "Expected Output:\n",
            "0\n",
            "\n",
            "\n",
            "Actual Output:\n",
            "0\n",
            "\n",
            "Execution Time:\n",
            "0.005 ms\n",
            "\n",
            "Test Result:\n",
            "\u001b[92mPASSED\u001b[0m\n",
            "\n",
            "\n",
            "\u001b[1mTEST CASE #5\u001b[0m\n",
            "\n",
            "Input:\n",
            "{'cards': [9, 7, 5, 2, -9], 'query': 4}\n",
            "\n",
            "Expected Output:\n",
            "-1\n",
            "\n",
            "\n",
            "Actual Output:\n",
            "-1\n",
            "\n",
            "Execution Time:\n",
            "0.006 ms\n",
            "\n",
            "Test Result:\n",
            "\u001b[92mPASSED\u001b[0m\n",
            "\n",
            "\n",
            "\u001b[1mTEST CASE #6\u001b[0m\n",
            "\n",
            "Input:\n",
            "{'cards': [], 'query': 7}\n",
            "\n",
            "Expected Output:\n",
            "-1\n",
            "\n",
            "\n",
            "Actual Output:\n",
            "-1\n",
            "\n",
            "Execution Time:\n",
            "0.003 ms\n",
            "\n",
            "Test Result:\n",
            "\u001b[92mPASSED\u001b[0m\n",
            "\n",
            "\n",
            "\u001b[1mTEST CASE #7\u001b[0m\n",
            "\n",
            "Input:\n",
            "{'cards': [8, 8, 6, 6, 6, 6, 6, 6, 3, 2, 2, 2, 0, 0, 0], 'query': 6}\n",
            "\n",
            "Expected Output:\n",
            "2\n",
            "\n",
            "\n",
            "Actual Output:\n",
            "2\n",
            "\n",
            "Execution Time:\n",
            "0.008 ms\n",
            "\n",
            "Test Result:\n",
            "\u001b[92mPASSED\u001b[0m\n",
            "\n",
            "\n",
            "\u001b[1mSUMMARY\u001b[0m\n",
            "\n",
            "TOTAL: 8, \u001b[92mPASSED\u001b[0m: 8, \u001b[91mFAILED\u001b[0m: 0\n"
          ]
        },
        {
          "output_type": "execute_result",
          "data": {
            "text/plain": [
              "[(3, True, 0.01),\n",
              " (6, True, 0.007),\n",
              " (0, True, 0.006),\n",
              " (3, True, 0.007),\n",
              " (0, True, 0.005),\n",
              " (-1, True, 0.006),\n",
              " (-1, True, 0.003),\n",
              " (2, True, 0.008)]"
            ]
          },
          "metadata": {},
          "execution_count": 37
        }
      ]
    },
    {
      "cell_type": "code",
      "metadata": {
        "id": "ySFUEdOCQOGM"
      },
      "source": [
        ""
      ],
      "execution_count": null,
      "outputs": []
    }
  ]
}